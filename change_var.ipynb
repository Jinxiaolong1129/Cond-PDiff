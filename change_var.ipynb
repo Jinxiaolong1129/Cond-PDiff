{
 "cells": [
  {
   "cell_type": "code",
   "execution_count": 2,
   "metadata": {},
   "outputs": [
    {
     "name": "stdout",
     "output_type": "stream",
     "text": [
      "路径前缀已成功替换并保存。\n"
     ]
    },
    {
     "name": "stderr",
     "output_type": "stream",
     "text": [
      "/tmp/ipykernel_1712791/3299737669.py:9: FutureWarning: You are using `torch.load` with `weights_only=False` (the current default value), which uses the default pickle module implicitly. It is possible to construct malicious pickle data which will execute arbitrary code during unpickling (See https://github.com/pytorch/pytorch/blob/main/SECURITY.md#untrusted-models for more details). In a future release, the default value for `weights_only` will be flipped to `True`. This limits the functions that could be executed during unpickling. Arbitrary objects will no longer be allowed to be loaded via this mode unless they are explicitly allowlisted by the user via `torch.serialization.add_safe_globals`. We recommend you start setting `weights_only=True` for any use case where you don't have full control of the loaded file. Please open an issue on GitHub for any issues related to this experimental feature.\n",
      "  check = torch.load(dir_path)\n"
     ]
    }
   ],
   "source": [
    "import torch\n",
    "\n",
    "# dir_path = '/data3/user/jin509/lora-pdiff/dataset/bert-base-uncased/lora_r_2/para_dataset_sst2_rte_mrpc_cola_qnli_stsb/layer_11_10_9_8_7_6_5_4_3_2_1_0/checkpoints_dirs.pt'\n",
    "# dir_path = '/data3/user/jin509/lora-pdiff/dataset/bert-base-uncased/lora_r_16/para_dataset_sst2_rte_mrpc_cola_qnli_stsb/layer_11_10_9_8_7_6_5_4_3_2_1_0/checkpoints_dirs.pt'\n",
    "# dir_path = '/data3/user/jin509/lora-pdiff/dataset/roberta-base/lora_r_4/para_dataset_sst2_rte_mrpc_cola_qnli_stsb/layer_11_10_9_8_7_6_5_4_3_2_1_0/checkpoints_dirs.pt'\n",
    "dir_path = '/data3/user/jin509/lora-pdiff/dataset/roberta-base/lora_r_2/para_dataset_sst2_rte_mrpc_cola_qnli_stsb/layer_11_10_9_8_7_6_5_4_3_2_1_0/checkpoints_dirs.pt'\n",
    "\n",
    "check = torch.load(dir_path)\n",
    "\n",
    "old_prefix = '/data/data9/xiaolong/lora-pdiff/'\n",
    "new_prefix = '/data3/user/jin509/lora-pdiff/'\n",
    "\n",
    "for key, inner_dict in check.items():\n",
    "    if isinstance(inner_dict, dict):\n",
    "        for sub_key, path in inner_dict.items():\n",
    "            if isinstance(path, str) and path.startswith(old_prefix):\n",
    "                check[key][sub_key] = path.replace(old_prefix, new_prefix)\n",
    "\n",
    "\n",
    "torch.save(check, dir_path)\n"
   ]
  },
  {
   "cell_type": "code",
   "execution_count": null,
   "metadata": {},
   "outputs": [],
   "source": []
  }
 ],
 "metadata": {
  "kernelspec": {
   "display_name": "condpdiff",
   "language": "python",
   "name": "python3"
  },
  "language_info": {
   "codemirror_mode": {
    "name": "ipython",
    "version": 3
   },
   "file_extension": ".py",
   "mimetype": "text/x-python",
   "name": "python",
   "nbconvert_exporter": "python",
   "pygments_lexer": "ipython3",
   "version": "3.10.15"
  }
 },
 "nbformat": 4,
 "nbformat_minor": 2
}
